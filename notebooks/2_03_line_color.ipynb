{
 "cells": [
  {
   "cell_type": "markdown",
   "id": "00999449-bd3c-4367-a671-70bdc2ac7351",
   "metadata": {
    "tags": []
   },
   "source": [
    "# Import libraries"
   ]
  },
  {
   "cell_type": "code",
   "execution_count": 1,
   "id": "6fb534ff-a806-4223-9ccc-ef848abbcd9e",
   "metadata": {},
   "outputs": [
    {
     "name": "stdout",
     "output_type": "stream",
     "text": [
      "PyTorch: 1.10.2; CUDA: cu113\n"
     ]
    }
   ],
   "source": [
    "import torch\n",
    "import tensorboard\n",
    "\n",
    "TORCH_VERSION = torch.__version__.split(\"+\")[0]\n",
    "CUDA_VERSION = torch.__version__.split(\"+\")[1]\n",
    "print(f\"PyTorch: {TORCH_VERSION}; CUDA: {CUDA_VERSION}\")"
   ]
  },
  {
   "cell_type": "code",
   "execution_count": 2,
   "id": "fe163e68-858e-4518-9d19-c7f1983a2108",
   "metadata": {},
   "outputs": [
    {
     "name": "stdout",
     "output_type": "stream",
     "text": [
      "detectron2: 0.6\n"
     ]
    }
   ],
   "source": [
    "import detectron2\n",
    "from detectron2.utils.logger import setup_logger\n",
    "setup_logger()\n",
    "\n",
    "print(\"detectron2:\", detectron2.__version__)"
   ]
  },
  {
   "cell_type": "code",
   "execution_count": 3,
   "id": "9783345b-c006-4d94-aee0-460686cb74c1",
   "metadata": {},
   "outputs": [],
   "source": [
    "import os, random, json\n",
    "import cv2\n",
    "\n",
    "from matplotlib import pyplot as plt\n",
    "\n",
    "from detectron2 import model_zoo\n",
    "\n",
    "from detectron2.data import MetadataCatalog, DatasetCatalog\n",
    "from detectron2.structures import BoxMode\n",
    "\n",
    "from detectron2.config import get_cfg\n",
    "from detectron2.engine import DefaultTrainer, DefaultPredictor\n",
    "\n",
    "from detectron2.utils.visualizer import Visualizer, ColorMode\n",
    "import detectron2.data.detection_utils as utils"
   ]
  },
  {
   "cell_type": "code",
   "execution_count": 4,
   "id": "6149fd33-1715-47a4-973f-bea235669a4f",
   "metadata": {},
   "outputs": [],
   "source": [
    "import sys\n",
    "sys.path.append(os.path.abspath(os.path.join(os.getcwd(), '../')))"
   ]
  },
  {
   "cell_type": "code",
   "execution_count": 5,
   "id": "e262405a-63cb-4b9f-954c-a70e044c4a6c",
   "metadata": {},
   "outputs": [],
   "source": [
    "from lib.datasets.DataPipeline import Pipeline\n",
    "from lib.datasets.TensorDataset import TensorDataset"
   ]
  },
  {
   "cell_type": "code",
   "execution_count": 6,
   "id": "5f59257d-eaaf-41ba-898b-9cf1259037ab",
   "metadata": {},
   "outputs": [
    {
     "name": "stdout",
     "output_type": "stream",
     "text": [
      "Current path : /srv/data/shared/sjindal/Parking_maps_Denso/notebooks\n",
      "Data path    : /srv/data/shared/dev/data/\n",
      "Tiles path   : /srv/data/shared/dev/data/tiles\n",
      "Dataset path : /srv/data/shared/dev/data/detection_datasets/usa_parking\n",
      "Models path  : /srv/data/shared/sjindal/Parking_maps_Denso/models\n"
     ]
    }
   ],
   "source": [
    "DATA_PATH = os.environ['DATA_PATH']\n",
    "DATASET_PATH = os.path.abspath(os.path.join(DATA_PATH, 'detection_datasets/usa_parking'))\n",
    "TILES_PATH = os.path.abspath(os.path.join(DATA_PATH, 'tiles'))\n",
    "MODELS_PATH = os.path.abspath(os.path.join(os.getcwd(), '../models/'))\n",
    "\n",
    "print(f\"Current path : {os.getcwd()}\")\n",
    "print(f\"Data path    : {DATA_PATH}\")\n",
    "print(f\"Tiles path   : {TILES_PATH}\")\n",
    "print(f\"Dataset path : {DATASET_PATH}\")\n",
    "print(f\"Models path  : {MODELS_PATH}\")"
   ]
  },
  {
   "cell_type": "code",
   "execution_count": 7,
   "id": "dbff663a-4447-46c0-b183-19f4a9a0b82c",
   "metadata": {},
   "outputs": [],
   "source": [
    "from torchvision.transforms import ToTensor\n",
    "import torchvision\n",
    "import numpy as np\n",
    "from torch.optim import Adam\n",
    "from torch.autograd import Variable"
   ]
  },
  {
   "cell_type": "code",
   "execution_count": 8,
   "id": "8a2ca72f-4344-4725-a844-a3651b1e54f7",
   "metadata": {},
   "outputs": [],
   "source": [
    "import pandas as pd\n",
    "import numpy as np\n",
    "from detectron2.data.detection_utils import read_image\n",
    "\n",
    "import cv2\n",
    "\n",
    "from lib.gdf_from_csv import gdf_from_csv\n",
    "import math\n",
    "import shutil"
   ]
  },
  {
   "cell_type": "markdown",
   "id": "e80c6df8-31b1-490f-95e8-7d584dd0091d",
   "metadata": {},
   "source": [
    "# Load data"
   ]
  },
  {
   "cell_type": "markdown",
   "id": "4682ad06-77c3-418a-b283-916a81c78cff",
   "metadata": {},
   "source": [
    "need to do some changes for japan data"
   ]
  },
  {
   "cell_type": "code",
   "execution_count": 9,
   "id": "12797ee0-e6ac-40f9-9ebe-ea3b8c924773",
   "metadata": {},
   "outputs": [],
   "source": [
    "def square_image(image):\n",
    "    _height, _width = image.shape[:2]\n",
    "    if _height > _width:\n",
    "        image = np.rot90(image)\n",
    "        _height, _width = _width, _height\n",
    "    shape = [_width, _width, *image.shape[2:]]\n",
    "    result = np.zeros(shape)    \n",
    "    idx = math.ceil((_width-_height)/2)\n",
    "    result[idx:idx+_height] = image\n",
    "    result = result.astype(np.uint8)\n",
    "    return result\n",
    "\n",
    "def read_data(pipeline):\n",
    "    # Init dataset\n",
    "    X = []\n",
    "    y = []\n",
    "    \n",
    "    parking_path = os.path.join(DATA_PATH, \"parking.csv\")\n",
    "    parking = pipeline.read_parking(parking_path)\n",
    "    \n",
    "    # Only USA data\n",
    "    mask = pd.DataFrame([\n",
    "        parking['country'].isin({'USA'}),\n",
    "    ]).all()\n",
    "    \n",
    "    # Iterate over feature records\n",
    "    for feature_id in parking.index[mask]:\n",
    "        # Get 'line_color' label\n",
    "        label = parking.loc[feature_id, 'line_color']\n",
    "        # if None/Other label then do nothing \n",
    "        if label in {'None', 'Other'}:\n",
    "            continue\n",
    "        \n",
    "        try:\n",
    "            # Read space image RGB\n",
    "            image_rgb_path = os.path.abspath(os.path.join(\n",
    "                DATA_PATH, \n",
    "                f\"recognition/features/{feature_id}/image_rgb.png\",\n",
    "            ))\n",
    "            image_rgb = utils.read_image(image_rgb_path)\n",
    "            \n",
    "            # Read pred_mask image\n",
    "            pred_mask_path = os.path.abspath(os.path.join(\n",
    "                DATA_PATH, \n",
    "                f\"recognition/features/{feature_id}/pred_mask.png\",\n",
    "            ))\n",
    "            pred_mask = utils.read_image(pred_mask_path)\n",
    "            \n",
    "            body_image = cv2.bitwise_and(image_rgb, image_rgb, mask=pred_mask)    \n",
    "        except:\n",
    "            continue\n",
    "            \n",
    "        image = cv2.resize(square_image(body_image), (64, 64), interpolation=cv2.INTER_AREA)\n",
    "            \n",
    "        # Save feature to dataset\n",
    "        X.append(image)\n",
    "        y.append(label)\n",
    "        \n",
    "        # Augment if rare feature\n",
    "        if label in {'Blue','White'}:\n",
    "            # rotating 90 degree across all 3 axis\n",
    "            for i in range(3):\n",
    "                X.append(np.rot90(image.copy(), k=i+1))\n",
    "                y.append(label)\n",
    "            \n",
    "            \n",
    "    # Extract classes\n",
    "    classes = np.unique(y).tolist()\n",
    "    y = np.array([classes.index(i) for i in y])                \n",
    "    return np.array(X), np.array(y), np.array(classes)\n",
    "\n"
   ]
  },
  {
   "cell_type": "code",
   "execution_count": 10,
   "id": "0faaa2f4-7f95-428f-9c10-d88cbb3bc3e6",
   "metadata": {},
   "outputs": [
    {
     "name": "stdout",
     "output_type": "stream",
     "text": [
      "number of samples:  33941\n",
      "\n",
      "image shape:\n",
      "(64, 64, 3)\n",
      "\n",
      "labels:\n",
      "Yellow    16673\n",
      "White     15128\n",
      "Blue       2140\n",
      "dtype: int64\n"
     ]
    }
   ],
   "source": [
    "new_pipeline = Pipeline()\n",
    "\n",
    "X, y, class_names = read_data(new_pipeline)\n",
    "\n",
    "print('number of samples: ', X.shape[0])\n",
    "print('\\nimage shape:\\n', X[0].shape, sep='')\n",
    "print('\\nlabels:\\n', pd.Series(y).map(class_names.take).value_counts(), sep='')\n",
    "\n",
    "X_train, y_train, X_test, y_test, X_val, y_val = new_pipeline.createTrainTestVal(X, y, makeVal=True)\n",
    "\n",
    "batch_size = 100\n",
    "learning_rate = 0.001\n",
    "\n",
    "train_data = TensorDataset(X_train, y_train, transform=ToTensor())\n",
    "trainloader = torch.utils.data.DataLoader(train_data, batch_size=batch_size,\n",
    "                                          shuffle=True, num_workers=2)\n",
    "\n",
    "test_data = TensorDataset(X_test, y_test, transform=ToTensor())\n",
    "testloader = torch.utils.data.DataLoader(test_data, batch_size=batch_size,\n",
    "                                         shuffle=False, num_workers=2)\n",
    "\n",
    "valid_data = TensorDataset(X_val, y_val, transform=ToTensor())\n",
    "valloader = torch.utils.data.DataLoader(valid_data, batch_size=batch_size,\n",
    "                                         shuffle=True, num_workers=2)"
   ]
  },
  {
   "cell_type": "code",
   "execution_count": 11,
   "id": "96476573-0ebd-4579-b8f3-362bc58437dc",
   "metadata": {},
   "outputs": [
    {
     "data": {
      "image/png": "[encoded data removed]",
      "text/plain": [
       "<Figure size 432x288 with 1 Axes>"
      ]
     },
     "metadata": {
      "needs_background": "light"
     },
     "output_type": "display_data"
    }
   ],
   "source": [
    "# functions to show an image\n",
    "def show_batch_grid(img):\n",
    "    npimg = img.numpy()\n",
    "    plt.imshow(np.transpose(npimg, (1, 2, 0)))\n",
    "    plt.show()\n",
    "\n",
    "# get some random training images\n",
    "dataiter = iter(trainloader)\n",
    "images, labels = dataiter.next()\n",
    "\n",
    "# show images\n",
    "show_batch_grid(torchvision.utils.make_grid(images, nrow=20))"
   ]
  },
  {
   "cell_type": "markdown",
   "id": "1e5d55ea-dbfe-41d6-b041-e7ba8a604cfa",
   "metadata": {},
   "source": [
    "# Train model"
   ]
  },
  {
   "cell_type": "code",
   "execution_count": 12,
   "id": "6bacea8d-ec63-4810-8a2e-d9e6020753f3",
   "metadata": {},
   "outputs": [],
   "source": [
    "import torch.nn as nn\n",
    "from lib.recognition.line_color_clf import LineColorClassifier\n",
    "\n",
    "line_color_clf = LineColorClassifier(class_names=class_names)    "
   ]
  },
  {
   "cell_type": "code",
   "execution_count": 13,
   "id": "d9316356-309a-4c4a-83db-4cd7ea04dc69",
   "metadata": {},
   "outputs": [
    {
     "name": "stdout",
     "output_type": "stream",
     "text": [
      "cuda\n"
     ]
    }
   ],
   "source": [
    "print(line_color_clf._device)"
   ]
  },
  {
   "cell_type": "code",
   "execution_count": 14,
   "id": "5c7291d5-65d7-4d99-b48c-c8b98b431850",
   "metadata": {},
   "outputs": [],
   "source": [
    "def initialize_weights(m):\n",
    "    if isinstance(m, nn.Conv2d):\n",
    "        nn.init.kaiming_normal_(m.weight.data,nonlinearity='leaky_relu')\n",
    "        if m.bias is not None:\n",
    "            nn.init.constant_(m.bias.data, 0)\n",
    "    elif isinstance(m, nn.BatchNorm2d):\n",
    "        nn.init.constant_(m.weight.data, 1)\n",
    "        nn.init.constant_(m.bias.data, 0)\n",
    "    elif isinstance(m, nn.Linear):\n",
    "        nn.init.kaiming_normal_(m.weight.data)\n",
    "        nn.init.constant_(m.bias.data, 0)"
   ]
  },
  {
   "cell_type": "code",
   "execution_count": 15,
   "id": "28526375-af7a-4cfa-a2ec-3a3322c9311a",
   "metadata": {},
   "outputs": [
    {
     "data": {
      "text/plain": [
       "ResNet(\n",
       "  (layer0): Sequential(\n",
       "    (0): Conv2d(3, 64, kernel_size=(3, 3), stride=(1, 1))\n",
       "    (1): MaxPool2d(kernel_size=2, stride=2, padding=0, dilation=1, ceil_mode=False)\n",
       "    (2): BatchNorm2d(64, eps=1e-05, momentum=0.1, affine=True, track_running_stats=True)\n",
       "    (3): ReLU()\n",
       "  )\n",
       "  (layer1): Sequential(\n",
       "    (0): ResBlock(\n",
       "      (conv1): Conv2d(64, 64, kernel_size=(3, 3), stride=(1, 1), padding=(1, 1))\n",
       "      (shortcut): Sequential()\n",
       "      (conv2): Conv2d(64, 64, kernel_size=(3, 3), stride=(1, 1), padding=(1, 1))\n",
       "      (bn1): BatchNorm2d(64, eps=1e-05, momentum=0.1, affine=True, track_running_stats=True)\n",
       "      (bn2): BatchNorm2d(64, eps=1e-05, momentum=0.1, affine=True, track_running_stats=True)\n",
       "    )\n",
       "    (1): ResBlock(\n",
       "      (conv1): Conv2d(64, 64, kernel_size=(3, 3), stride=(1, 1), padding=(1, 1))\n",
       "      (shortcut): Sequential()\n",
       "      (conv2): Conv2d(64, 64, kernel_size=(3, 3), stride=(1, 1), padding=(1, 1))\n",
       "      (bn1): BatchNorm2d(64, eps=1e-05, momentum=0.1, affine=True, track_running_stats=True)\n",
       "      (bn2): BatchNorm2d(64, eps=1e-05, momentum=0.1, affine=True, track_running_stats=True)\n",
       "    )\n",
       "  )\n",
       "  (layer2): Sequential(\n",
       "    (0): ResBlock(\n",
       "      (conv1): Conv2d(64, 128, kernel_size=(3, 3), stride=(2, 2), padding=(1, 1))\n",
       "      (shortcut): Sequential(\n",
       "        (0): Conv2d(64, 128, kernel_size=(1, 1), stride=(2, 2))\n",
       "        (1): BatchNorm2d(128, eps=1e-05, momentum=0.1, affine=True, track_running_stats=True)\n",
       "      )\n",
       "      (conv2): Conv2d(128, 128, kernel_size=(3, 3), stride=(1, 1), padding=(1, 1))\n",
       "      (bn1): BatchNorm2d(128, eps=1e-05, momentum=0.1, affine=True, track_running_stats=True)\n",
       "      (bn2): BatchNorm2d(128, eps=1e-05, momentum=0.1, affine=True, track_running_stats=True)\n",
       "    )\n",
       "    (1): ResBlock(\n",
       "      (conv1): Conv2d(128, 128, kernel_size=(3, 3), stride=(1, 1), padding=(1, 1))\n",
       "      (shortcut): Sequential()\n",
       "      (conv2): Conv2d(128, 128, kernel_size=(3, 3), stride=(1, 1), padding=(1, 1))\n",
       "      (bn1): BatchNorm2d(128, eps=1e-05, momentum=0.1, affine=True, track_running_stats=True)\n",
       "      (bn2): BatchNorm2d(128, eps=1e-05, momentum=0.1, affine=True, track_running_stats=True)\n",
       "    )\n",
       "  )\n",
       "  (layer3): Sequential(\n",
       "    (0): ResBlock(\n",
       "      (conv1): Conv2d(128, 256, kernel_size=(3, 3), stride=(2, 2), padding=(1, 1))\n",
       "      (shortcut): Sequential(\n",
       "        (0): Conv2d(128, 256, kernel_size=(1, 1), stride=(2, 2))\n",
       "        (1): BatchNorm2d(256, eps=1e-05, momentum=0.1, affine=True, track_running_stats=True)\n",
       "      )\n",
       "      (conv2): Conv2d(256, 256, kernel_size=(3, 3), stride=(1, 1), padding=(1, 1))\n",
       "      (bn1): BatchNorm2d(256, eps=1e-05, momentum=0.1, affine=True, track_running_stats=True)\n",
       "      (bn2): BatchNorm2d(256, eps=1e-05, momentum=0.1, affine=True, track_running_stats=True)\n",
       "    )\n",
       "    (1): ResBlock(\n",
       "      (conv1): Conv2d(256, 256, kernel_size=(3, 3), stride=(1, 1), padding=(1, 1))\n",
       "      (shortcut): Sequential()\n",
       "      (conv2): Conv2d(256, 256, kernel_size=(3, 3), stride=(1, 1), padding=(1, 1))\n",
       "      (bn1): BatchNorm2d(256, eps=1e-05, momentum=0.1, affine=True, track_running_stats=True)\n",
       "      (bn2): BatchNorm2d(256, eps=1e-05, momentum=0.1, affine=True, track_running_stats=True)\n",
       "    )\n",
       "  )\n",
       "  (gap): AdaptiveAvgPool2d(output_size=1)\n",
       "  (fc): Linear(in_features=256, out_features=3, bias=True)\n",
       ")"
      ]
     },
     "execution_count": 15,
     "metadata": {},
     "output_type": "execute_result"
    }
   ],
   "source": [
    "import math\n",
    "\n",
    "count = [(y==c).sum() for c in range(len(class_names))]\n",
    "weights = [1/math.sqrt(i) for i in count]\n",
    "\n",
    "weight_tensor = torch.Tensor(weights)\n",
    "\n",
    "# Instantiate a neural network model \n",
    "line_color_clf._model.apply(initialize_weights)\n",
    "\n",
    "# Loss function\n",
    "weight_tensor = weight_tensor.to(line_color_clf._device)\n",
    "loss_fn = nn.CrossEntropyLoss(weight = weight_tensor) \n",
    "optimizer = Adam(line_color_clf._model.parameters(), lr = 5e-5, weight_decay = 1e-5) # learning rate could be changed\n",
    "line_color_clf._model.to(line_color_clf._device)"
   ]
  },
  {
   "cell_type": "code",
   "execution_count": 16,
   "id": "8aefbb00-a424-4c3b-b94e-c5216f1fd89e",
   "metadata": {},
   "outputs": [],
   "source": [
    "def saveModel(model,PATH):\n",
    "    torch.save(model.state_dict(),PATH)\n",
    "    return"
   ]
  },
  {
   "cell_type": "code",
   "execution_count": 17,
   "id": "b4049e3a-5394-45a5-a708-5b8dcb743701",
   "metadata": {},
   "outputs": [
    {
     "name": "stdout",
     "output_type": "stream",
     "text": [
      "epoch : 001/050, loss: 0.52019 train_acc: 77.118917 % val_acc: 76.247468 %\n",
      "epoch : 002/050, loss: 0.42066 train_acc: 87.007965 % val_acc: 85.987848 %\n",
      "epoch : 003/050, loss: 0.25872 train_acc: 88.656139 % val_acc: 87.258332 %\n",
      "epoch : 004/050, loss: 0.24790 train_acc: 86.326596 % val_acc: 83.851961 %\n",
      "epoch : 005/050, loss: 0.33631 train_acc: 89.710418 % val_acc: 88.234211 %\n",
      "epoch : 006/050, loss: 0.22007 train_acc: 92.560195 % val_acc: 90.406923 %\n",
      "epoch : 007/050, loss: 0.32515 train_acc: 92.725933 % val_acc: 89.394218 %\n",
      "epoch : 008/050, loss: 0.37196 train_acc: 93.600663 % val_acc: 90.333272 %\n",
      "epoch : 009/050, loss: 0.21567 train_acc: 93.306017 % val_acc: 90.149144 %\n",
      "epoch : 010/050, loss: 0.17424 train_acc: 91.961696 % val_acc: 88.050083 %\n",
      "epoch : 011/050, loss: 0.31968 train_acc: 93.701947 % val_acc: 88.197385 %\n",
      "epoch : 012/050, loss: 0.02369 train_acc: 96.929239 % val_acc: 91.198674 %\n",
      "epoch : 013/050, loss: 0.24873 train_acc: 95.888771 % val_acc: 90.112318 %\n",
      "epoch : 014/050, loss: 0.05905 train_acc: 97.730307 % val_acc: 91.769472 %\n",
      "epoch : 015/050, loss: 0.27948 train_acc: 97.352792 % val_acc: 90.940895 %\n",
      "epoch : 016/050, loss: 0.02056 train_acc: 97.822384 % val_acc: 90.554226 %\n",
      "epoch : 017/050, loss: 0.74267 train_acc: 95.925602 % val_acc: 88.344688 %\n",
      "epoch : 018/050, loss: 0.18622 train_acc: 98.766171 % val_acc: 91.198674 %\n",
      "epoch : 019/050, loss: 0.02071 train_acc: 98.595829 % val_acc: 91.235500 %\n",
      "epoch : 020/050, loss: 0.03991 train_acc: 99.622485 % val_acc: 92.469159 %\n",
      "epoch : 021/050, loss: 0.02716 train_acc: 99.617881 % val_acc: 92.156141 %\n",
      "epoch : 022/050, loss: 0.06081 train_acc: 99.465955 % val_acc: 92.708525 %\n",
      "epoch : 023/050, loss: 0.00279 train_acc: 99.797431 % val_acc: 93.003130 %\n",
      "epoch : 024/050, loss: 0.03684 train_acc: 99.737581 % val_acc: 92.395507 %\n",
      "epoch : 025/050, loss: 0.00025 train_acc: 99.852677 % val_acc: 92.524397 %\n",
      "epoch : 026/050, loss: 0.13961 train_acc: 99.788223 % val_acc: 92.745351 %\n",
      "epoch : 027/050, loss: 0.26478 train_acc: 99.535012 % val_acc: 92.616461 %\n",
      "epoch : 028/050, loss: 0.00687 train_acc: 99.553428 % val_acc: 92.008838 %\n",
      "epoch : 029/050, loss: 0.00158 train_acc: 99.010174 % val_acc: 91.769472 %\n",
      "epoch : 030/050, loss: 0.00088 train_acc: 97.569173 % val_acc: 90.480574 %\n",
      "epoch : 031/050, loss: 0.01018 train_acc: 99.714562 % val_acc: 91.916774 %\n",
      "epoch : 032/050, loss: 0.00039 train_acc: 99.783620 % val_acc: 92.413920 %\n",
      "epoch : 033/050, loss: 0.00050 train_acc: 99.986188 % val_acc: 92.598048 %\n",
      "epoch : 034/050, loss: 0.00023 train_acc: 99.995396 % val_acc: 93.260910 %\n",
      "epoch : 035/050, loss: 0.00051 train_acc: 99.995396 % val_acc: 93.168846 %\n",
      "epoch : 036/050, loss: 0.00022 train_acc: 100.000000 % val_acc: 93.132020 %\n",
      "epoch : 037/050, loss: 0.00004 train_acc: 100.000000 % val_acc: 93.150433 %\n",
      "epoch : 038/050, loss: 0.00016 train_acc: 100.000000 % val_acc: 93.150433 %\n",
      "epoch : 039/050, loss: 0.04945 train_acc: 99.755997 % val_acc: 92.984717 %\n",
      "epoch : 040/050, loss: 0.00111 train_acc: 99.990792 % val_acc: 93.095194 %\n",
      "epoch : 041/050, loss: 0.00042 train_acc: 100.000000 % val_acc: 93.076781 %\n",
      "epoch : 042/050, loss: 0.00454 train_acc: 100.000000 % val_acc: 93.132020 %\n",
      "epoch : 043/050, loss: 0.00050 train_acc: 100.000000 % val_acc: 92.340269 %\n",
      "epoch : 044/050, loss: 0.00021 train_acc: 100.000000 % val_acc: 93.168846 %\n",
      "epoch : 045/050, loss: 0.00205 train_acc: 100.000000 % val_acc: 93.352974 %\n",
      "epoch : 046/050, loss: 0.00033 train_acc: 100.000000 % val_acc: 93.297735 %\n",
      "epoch : 047/050, loss: 0.00022 train_acc: 100.000000 % val_acc: 93.316148 %\n",
      "epoch : 048/050, loss: 0.00008 train_acc: 100.000000 % val_acc: 93.316148 %\n",
      "epoch : 049/050, loss: 0.00010 train_acc: 100.000000 % val_acc: 93.224084 %\n",
      "epoch : 050/050, loss: 0.00021 train_acc: 100.000000 % val_acc: 93.334561 %\n",
      "Finished Training\n"
     ]
    }
   ],
   "source": [
    "# Function to test the model with the test dataset and print the accuracy for the test images\n",
    "def testAccuracy(model,test_loader,device):\n",
    "    \n",
    "    model.eval()\n",
    "    accuracy = 0.0\n",
    "    total = 0.0\n",
    "    \n",
    "    with torch.no_grad():\n",
    "        for data in test_loader:\n",
    "            images, labels = data\n",
    "            images = Variable(images.to(device))\n",
    "            labels = Variable(labels.to(device))\n",
    "            # run the model on the test set to predict labels\n",
    "            outputs = model(images)\n",
    "            # the label with the highest energy will be our prediction\n",
    "            _, predicted = torch.max(outputs.data, 1)\n",
    "            total += labels.size(0)\n",
    "            accuracy += (predicted == labels).sum().item()\n",
    "    \n",
    "    # compute the accuracy over all test images\n",
    "    accuracy = (100 * float(accuracy) / float(total))\n",
    "    return(accuracy)\n",
    "\n",
    "\n",
    "def train(model,num_epochs,train_loader,test_loader,device,PATH):\n",
    "    \n",
    "    best_accuracy = 0.0\n",
    "    model_path = os.path.abspath(os.path.join(PATH,'line_color_train.pth'))\n",
    "    for epoch in range(num_epochs):  # loop over the dataset multiple times\n",
    "        running_loss = 0.0\n",
    "        running_acc = 0.0\n",
    "\n",
    "        for i, (images, labels) in enumerate(train_loader, 0):\n",
    "            \n",
    "            # get the inputs\n",
    "            images = Variable(images.to(device))\n",
    "            labels = Variable(labels.to(device))\n",
    "\n",
    "            # zero the parameter gradients\n",
    "            optimizer.zero_grad()\n",
    "            # predict classes using images from the training set\n",
    "            outputs = model(images)\n",
    "            # compute the loss based on model output and real labels\n",
    "            loss = loss_fn(outputs, labels)\n",
    "            # backpropagate the loss\n",
    "            loss.backward()\n",
    "            # adjust parameters based on the calculated gradients\n",
    "            optimizer.step()\n",
    "\n",
    "            # Let's print statistics for every 1,000 images\n",
    "            running_loss += loss.item()     # extract the loss value\n",
    "            if i % 1000 == 999:    \n",
    "                # print every 1000 (twice per epoch) \n",
    "                print('[%d, %5d] loss: %.3f' %\n",
    "                      (epoch + 1, i + 1, running_loss / 1000))\n",
    "                # zero the loss\n",
    "                running_loss = 0.0\n",
    "\n",
    "        # Compute and print the average accuracy fo this epoch when tested over all 10000 test images\n",
    "        train_accuracy = testAccuracy(model, train_loader, device) \n",
    "        test_accuracy = testAccuracy(model , test_loader , device)\n",
    "        \n",
    "        #if (epoch+1)%5==0:   \n",
    "        print(f'epoch : {(epoch+1):03d}/{num_epochs:03d}, loss: {loss.data.item():.5f}','train_acc: %f %%' % (train_accuracy),'val_acc: %f %%' % (test_accuracy))\n",
    "        \n",
    "        # we want to save the model if the accuracy is the best\n",
    "        if test_accuracy > best_accuracy:\n",
    "            if(os.path.isdir(PATH)):\n",
    "                saveModel(model,model_path)\n",
    "            else:\n",
    "                os.mkdir(PATH)\n",
    "                saveModel(model,model_path)\n",
    "            best_accuracy = test_accuracy\n",
    "            \n",
    "    return\n",
    "\n",
    "best_model_path = os.path.abspath(os.path.join(os.getcwd(),\"../models/temp_training\"))\n",
    "train(line_color_clf._model, 50, trainloader, valloader, line_color_clf._device,best_model_path)\n",
    "line_color_clf._model.load_state_dict(torch.load(os.path.abspath(os.path.join(best_model_path,'line_color_train.pth'))))\n",
    "shutil.rmtree(best_model_path)\n",
    "print('Finished Training')"
   ]
  },
  {
   "cell_type": "markdown",
   "id": "56c8401a-079e-4276-a8fc-605b31f785f6",
   "metadata": {},
   "source": [
    "# Evaluate"
   ]
  },
  {
   "cell_type": "code",
   "execution_count": 18,
   "id": "5ad1bd28-47cd-4c50-bb15-22b79757fcb6",
   "metadata": {},
   "outputs": [
    {
     "name": "stdout",
     "output_type": "stream",
     "text": [
      "Test accuracy is : 93.22433348063043\n"
     ]
    }
   ],
   "source": [
    "test_accuracy = testAccuracy(line_color_clf._model,testloader,line_color_clf._device)\n",
    "print(\"Test accuracy is :\", test_accuracy)"
   ]
  },
  {
   "cell_type": "code",
   "execution_count": 19,
   "id": "8db091b1-1dd2-49f8-b846-076d05e8abaf",
   "metadata": {},
   "outputs": [],
   "source": [
    "from sklearn.metrics import accuracy_score, confusion_matrix, precision_score, recall_score,f1_score"
   ]
  },
  {
   "cell_type": "code",
   "execution_count": 20,
   "id": "9d8d5cfe-2329-4615-8c86-a4d78074e93a",
   "metadata": {},
   "outputs": [
    {
     "name": "stdout",
     "output_type": "stream",
     "text": [
      "Test Accuracy of the model on test images: 93.2243 %\n"
     ]
    }
   ],
   "source": [
    "line_color_clf._model.eval()\n",
    "\n",
    "correct = 0\n",
    "\n",
    "test = []\n",
    "pred = []\n",
    "\n",
    "for images, labels in testloader:\n",
    "    images = Variable(images.float()).to(line_color_clf._device)\n",
    "    outputs = line_color_clf._model(images)\n",
    "    _, predicted = torch.max(outputs.data, 1)\n",
    "    # correct += (predicted == labels).sum()\n",
    "    test.extend(labels)\n",
    "    pred.extend(predicted.cpu())\n",
    "    \n",
    "test = np.array(test)\n",
    "pred = np.array(pred)\n",
    "\n",
    "accuracy = (test==pred).sum() / test.shape[0] * 100\n",
    "print('Test Accuracy of the model on test images: %.4f %%' % (accuracy))"
   ]
  },
  {
   "cell_type": "code",
   "execution_count": 21,
   "id": "dea4a3f8-be88-4305-a4d5-34985fbc109b",
   "metadata": {},
   "outputs": [
    {
     "data": {
      "text/plain": [
       "<AxesSubplot:>"
      ]
     },
     "execution_count": 21,
     "metadata": {},
     "output_type": "execute_result"
    },
    {
     "data": {
      "image/png": "[encoded data removed]",
      "text/plain": [
       "<Figure size 1440x504 with 4 Axes>"
      ]
     },
     "metadata": {
      "needs_background": "light"
     },
     "output_type": "display_data"
    }
   ],
   "source": [
    "import seaborn as sn\n",
    "import pandas as pd\n",
    "\n",
    "fig, axes = plt.subplots(1, 2, figsize=(20, 7))\n",
    "\n",
    "matrix_avg = confusion_matrix(test, pred)\n",
    "sn.heatmap(pd.DataFrame(matrix_avg, index=class_names, columns=class_names), ax=axes[0], annot=True)\n",
    "\n",
    "matrix_pct = (matrix_avg.T / matrix_avg.sum(axis=1)).T\n",
    "sn.heatmap(pd.DataFrame(matrix_pct, index=class_names, columns=class_names), ax=axes[1], annot=True)"
   ]
  },
  {
   "cell_type": "code",
   "execution_count": 22,
   "id": "11862aab-34af-4f67-8640-9b6935dc44b2",
   "metadata": {},
   "outputs": [
    {
     "data": {
      "text/html": [
       "<div>\n",
       "<style scoped>\n",
       "    .dataframe tbody tr th:only-of-type {\n",
       "        vertical-align: middle;\n",
       "    }\n",
       "\n",
       "    .dataframe tbody tr th {\n",
       "        vertical-align: top;\n",
       "    }\n",
       "\n",
       "    .dataframe thead th {\n",
       "        text-align: right;\n",
       "    }\n",
       "</style>\n",
       "<table border=\"1\" class=\"dataframe\">\n",
       "  <thead>\n",
       "    <tr style=\"text-align: right;\">\n",
       "      <th></th>\n",
       "      <th>Blue</th>\n",
       "      <th>White</th>\n",
       "      <th>Yellow</th>\n",
       "    </tr>\n",
       "  </thead>\n",
       "  <tbody>\n",
       "    <tr>\n",
       "      <th>precision</th>\n",
       "      <td>0.82</td>\n",
       "      <td>0.93</td>\n",
       "      <td>0.95</td>\n",
       "    </tr>\n",
       "    <tr>\n",
       "      <th>recall</th>\n",
       "      <td>0.64</td>\n",
       "      <td>0.94</td>\n",
       "      <td>0.96</td>\n",
       "    </tr>\n",
       "    <tr>\n",
       "      <th>f1</th>\n",
       "      <td>0.72</td>\n",
       "      <td>0.93</td>\n",
       "      <td>0.96</td>\n",
       "    </tr>\n",
       "  </tbody>\n",
       "</table>\n",
       "</div>"
      ],
      "text/plain": [
       "           Blue  White  Yellow\n",
       "precision  0.82   0.93    0.95\n",
       "recall     0.64   0.94    0.96\n",
       "f1         0.72   0.93    0.96"
      ]
     },
     "execution_count": 22,
     "metadata": {},
     "output_type": "execute_result"
    }
   ],
   "source": [
    "pr = pd.DataFrame([\n",
    "    precision_score(test, pred, average=None),\n",
    "    recall_score(test, pred, average=None),\n",
    "    f1_score(test, pred, average = None),\n",
    "], columns=class_names, index=['precision', 'recall','f1']).round(2)\n",
    "\n",
    "pr"
   ]
  },
  {
   "cell_type": "code",
   "execution_count": 23,
   "id": "e881bae0-4a9f-4efb-96cd-ac132068e229",
   "metadata": {},
   "outputs": [
    {
     "name": "stdin",
     "output_type": "stream",
     "text": [
      "Please scecify your name:  Sahil Jindal\n"
     ]
    }
   ],
   "source": [
    "metrics = {\n",
    "    \"accuracy\": accuracy_score(test, pred),\n",
    "    \"pr\": pr.to_dict(),\n",
    "    \"confusion\": pd.DataFrame(matrix_avg, index=class_names, columns=class_names).T.to_dict(),\n",
    "}\n",
    "\n",
    "line_color_clf.metrics = metrics"
   ]
  },
  {
   "cell_type": "markdown",
   "id": "cd2290de-5be4-4ad5-bfde-fa365e646889",
   "metadata": {},
   "source": [
    "# Save model"
   ]
  },
  {
   "cell_type": "code",
   "execution_count": 24,
   "id": "276ea341-b66a-49bc-b7b1-9aa417034271",
   "metadata": {},
   "outputs": [
    {
     "name": "stdin",
     "output_type": "stream",
     "text": [
      "Folder already exists. Rewrite model at \"../models/recognition/line_color\"? (Y/n): y\n"
     ]
    },
    {
     "name": "stdout",
     "output_type": "stream",
     "text": [
      "Rewriting model...\n",
      "Done!\n"
     ]
    }
   ],
   "source": [
    "PATH = \"../models/recognition/line_color\"\n",
    "line_color_clf.save(PATH)"
   ]
  },
  {
   "cell_type": "code",
   "execution_count": 25,
   "id": "0af58042-fd12-4e04-9c34-c9a44bbed715",
   "metadata": {},
   "outputs": [
    {
     "name": "stdout",
     "output_type": "stream",
     "text": [
      "../models/recognition/line_color\n",
      "class_names.json  metrics.json\tmodel.pth\n"
     ]
    }
   ],
   "source": [
    "print(PATH)\n",
    "!ls $PATH"
   ]
  }
 ],
 "metadata": {
  "kernelspec": {
   "display_name": "Python 3 (ipykernel)",
   "language": "python",
   "name": "python3"
  },
  "language_info": {
   "codemirror_mode": {
    "name": "ipython",
    "version": 3
   },
   "file_extension": ".py",
   "mimetype": "text/x-python",
   "name": "python",
   "nbconvert_exporter": "python",
   "pygments_lexer": "ipython3",
   "version": "3.9.7"
  }
 },
 "nbformat": 4,
 "nbformat_minor": 5
}
