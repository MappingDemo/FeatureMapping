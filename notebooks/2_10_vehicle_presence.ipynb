{
 "cells": [
  {
   "cell_type": "markdown",
   "id": "cc4bdc32-5b70-4835-9eff-525d43c701c7",
   "metadata": {},
   "source": [
    "# Import Libraries"
   ]
  },
  {
   "cell_type": "code",
   "execution_count": 1,
   "id": "8f19a8f2-66f4-4bc1-b2e9-9912d28f43ca",
   "metadata": {},
   "outputs": [
    {
     "name": "stdout",
     "output_type": "stream",
     "text": [
      "PyTorch: 1.10.2; CUDA: cu113\n"
     ]
    }
   ],
   "source": [
    "import torch\n",
    "import tensorboard\n",
    "\n",
    "TORCH_VERSION = torch.__version__.split(\"+\")[0]\n",
    "CUDA_VERSION = torch.__version__.split(\"+\")[1]\n",
    "print(f\"PyTorch: {TORCH_VERSION}; CUDA: {CUDA_VERSION}\")"
   ]
  },
  {
   "cell_type": "code",
   "execution_count": 2,
   "id": "8a34aa6b-9ceb-461a-999e-bcfcb2f7decb",
   "metadata": {},
   "outputs": [
    {
     "name": "stdout",
     "output_type": "stream",
     "text": [
      "detectron2: 0.6\n"
     ]
    }
   ],
   "source": [
    "import detectron2\n",
    "from detectron2.utils.logger import setup_logger\n",
    "setup_logger()\n",
    "\n",
    "print(\"detectron2:\", detectron2.__version__)"
   ]
  },
  {
   "cell_type": "code",
   "execution_count": 3,
   "id": "d5129695-8c1b-43da-8251-3b69340ce041",
   "metadata": {},
   "outputs": [],
   "source": [
    "import os, random, json\n",
    "import cv2\n",
    "\n",
    "from matplotlib import pyplot as plt\n",
    "\n",
    "from detectron2 import model_zoo\n",
    "\n",
    "from detectron2.data import MetadataCatalog, DatasetCatalog\n",
    "from detectron2.structures import BoxMode\n",
    "\n",
    "from detectron2.config import get_cfg\n",
    "from detectron2.engine import DefaultTrainer, DefaultPredictor\n",
    "\n",
    "from detectron2.utils.visualizer import Visualizer, ColorMode\n",
    "import detectron2.data.detection_utils as utils"
   ]
  },
  {
   "cell_type": "code",
   "execution_count": 4,
   "id": "59b3bbf4-7e11-42a3-bcc5-bb8fc797416a",
   "metadata": {},
   "outputs": [],
   "source": [
    "import sys\n",
    "sys.path.append(os.path.abspath(os.path.join(os.getcwd(), '../')))"
   ]
  },
  {
   "cell_type": "code",
   "execution_count": 5,
   "id": "81ee1458-0a95-4afd-bbd3-bdba3f669687",
   "metadata": {},
   "outputs": [],
   "source": [
    "from lib.datasets.DataPipeline import Pipeline\n",
    "from lib.datasets.TensorDataset import TensorDataset"
   ]
  },
  {
   "cell_type": "code",
   "execution_count": 6,
   "id": "4b85b2ad-fc22-45e8-ba2f-5d8608c259ec",
   "metadata": {},
   "outputs": [
    {
     "name": "stdout",
     "output_type": "stream",
     "text": [
      "Current path : /srv/data/shared/sjindal/Parking_maps_Denso/notebooks\n",
      "Data path    : /srv/data/shared/dev/data/\n",
      "Tiles path   : /srv/data/shared/dev/data/tiles\n",
      "Dataset path : /srv/data/shared/dev/data/detection_datasets/jpn_parking\n",
      "Models path  : /srv/data/shared/sjindal/Parking_maps_Denso/models\n"
     ]
    }
   ],
   "source": [
    "DATA_PATH = os.environ['DATA_PATH']\n",
    "DATASET_PATH = os.path.abspath(os.path.join(DATA_PATH, 'detection_datasets/jpn_parking'))\n",
    "TILES_PATH = os.path.abspath(os.path.join(DATA_PATH, 'tiles'))\n",
    "MODELS_PATH = os.path.abspath(os.path.join(os.getcwd(), '../models/'))\n",
    "\n",
    "print(f\"Current path : {os.getcwd()}\")\n",
    "print(f\"Data path    : {DATA_PATH}\")\n",
    "print(f\"Tiles path   : {TILES_PATH}\")\n",
    "print(f\"Dataset path : {DATASET_PATH}\")\n",
    "print(f\"Models path  : {MODELS_PATH}\")"
   ]
  },
  {
   "cell_type": "code",
   "execution_count": 7,
   "id": "4ae57421-6ae3-4853-b802-4cbf7641c2be",
   "metadata": {},
   "outputs": [],
   "source": [
    "from torchvision.transforms import ToTensor\n",
    "import torchvision\n",
    "import numpy as np\n",
    "from torch.optim import Adam\n",
    "from torch.autograd import Variable"
   ]
  },
  {
   "cell_type": "code",
   "execution_count": 8,
   "id": "b7a56dd8-c5e6-4419-b09d-734887099d1d",
   "metadata": {},
   "outputs": [],
   "source": [
    "import pandas as pd\n",
    "import numpy as np\n",
    "from detectron2.data.detection_utils import read_image\n",
    "\n",
    "import cv2\n",
    "\n",
    "from lib.gdf_from_csv import gdf_from_csv\n",
    "import math\n",
    "import shutil"
   ]
  },
  {
   "cell_type": "markdown",
   "id": "9397c626-fa80-43f5-b798-bff4ea19ee8b",
   "metadata": {},
   "source": [
    "# Load Data"
   ]
  },
  {
   "cell_type": "code",
   "execution_count": 9,
   "id": "2f761b16-d360-48d3-9c65-270b91842e98",
   "metadata": {},
   "outputs": [
    {
     "name": "stdout",
     "output_type": "stream",
     "text": [
      "number of samples:  33222\n",
      "\n",
      "image shape:\n",
      "(64, 64, 3)\n",
      "\n",
      "labels:\n",
      "No     18294\n",
      "Yes    14928\n",
      "dtype: int64\n"
     ]
    }
   ],
   "source": [
    "\n",
    "def square_image(image):\n",
    "    _height, _width = image.shape[:2]\n",
    "    if _height > _width:\n",
    "        image = np.rot90(image)\n",
    "        _height, _width = _width, _height\n",
    "    shape = [_width, _width, *image.shape[2:]]\n",
    "    result = np.zeros(shape)    \n",
    "    idx = math.ceil((_width-_height)/2)\n",
    "    result[idx:idx+_height] = image\n",
    "    result = result.astype(np.uint8)\n",
    "    return result\n",
    "\n",
    "def read_parking():\n",
    "    parking = gdf_from_csv(os.path.join(DATA_PATH, \"parking.csv\")).fillna('None')\n",
    "    parking.set_index('id', inplace=True)\n",
    "    parking.geom = parking.simplify(0.00001)\n",
    "    return parking\n",
    "\n",
    "def read_data():\n",
    "    # Init dataset\n",
    "    X = []\n",
    "    y = []\n",
    "    \n",
    "    \n",
    "    parking = read_parking()\n",
    "    \n",
    "    # Only USA data\n",
    "    mask = pd.DataFrame([\n",
    "        parking['country'].isin({'JPN'}),\n",
    "    ]).all()\n",
    "    \n",
    "    # Iterate over feature records\n",
    "    for feature_id in parking.index[mask]:\n",
    "        # Get 'line_color' label\n",
    "        label = parking.loc[feature_id, 'vehicle_presence']\n",
    "        # if None/Other label then do nothing \n",
    "        if label in {'Unknown'}:\n",
    "            continue\n",
    "        \n",
    "        try:\n",
    "            # Read space image RGB\n",
    "            image_rgb_path = os.path.abspath(os.path.join(\n",
    "                DATA_PATH, \n",
    "                f\"recognition/features/{feature_id}/image_rgb.png\",\n",
    "            ))\n",
    "            image_rgb = utils.read_image(image_rgb_path)\n",
    "            \n",
    "            # Read pred_mask image\n",
    "            pred_mask_path = os.path.abspath(os.path.join(\n",
    "                DATA_PATH, \n",
    "                f\"recognition/features/{feature_id}/pred_mask.png\",\n",
    "            ))\n",
    "            pred_mask = utils.read_image(pred_mask_path)\n",
    "            \n",
    "            body_image = cv2.bitwise_and(image_rgb, image_rgb, mask=pred_mask)    \n",
    "        except:\n",
    "            continue\n",
    "            \n",
    "        image = cv2.resize(square_image(body_image), (64, 64), interpolation=cv2.INTER_AREA)\n",
    "            \n",
    "        # Save feature to dataset\n",
    "        X.append(image)\n",
    "        y.append(label)\n",
    "        \n",
    "        # Augment if rare feature\n",
    "        if label in {'Yes'}:\n",
    "            # rotating 90 degree across all 3 axis\n",
    "            for i in range(2):\n",
    "                X.append(np.rot90(image.copy(), k=i+1))\n",
    "                y.append(label)\n",
    "            \n",
    "    # Extract classes\n",
    "    classes = np.unique(y).tolist()\n",
    "    y = np.array([classes.index(i) for i in y])                \n",
    "    return np.array(X), np.array(y), np.array(classes)\n",
    "\n",
    "X, y, class_names = read_data()\n",
    "# print(X.shape, y.shape)\n",
    "print('number of samples: ', X.shape[0])\n",
    "print('\\nimage shape:\\n', X[0].shape, sep='')\n",
    "print('\\nlabels:\\n', pd.Series(y).map(class_names.take).value_counts(), sep='')"
   ]
  },
  {
   "cell_type": "code",
   "execution_count": 10,
   "id": "c83b03a8-ccc8-4a5f-b0bf-a08aa4cbe43d",
   "metadata": {},
   "outputs": [],
   "source": [
    "new_pipeline = Pipeline()\n",
    "X_train, y_train, X_test, y_test, X_val, y_val = new_pipeline.createTrainTestVal(X, y, makeVal=True)\n",
    "\n",
    "batch_size = 100\n",
    "learning_rate = 0.001\n",
    "\n",
    "train_data = TensorDataset(X_train, y_train, transform=ToTensor())\n",
    "trainloader = torch.utils.data.DataLoader(train_data, batch_size=batch_size,\n",
    "                                          shuffle=True, num_workers=2)\n",
    "\n",
    "test_data = TensorDataset(X_test, y_test, transform=ToTensor())\n",
    "testloader = torch.utils.data.DataLoader(test_data, batch_size=batch_size,\n",
    "                                         shuffle=False, num_workers=2)\n",
    "\n",
    "valid_data = TensorDataset(X_val, y_val, transform=ToTensor())\n",
    "valloader = torch.utils.data.DataLoader(valid_data, batch_size=batch_size,\n",
    "                                         shuffle=False, num_workers=2)"
   ]
  },
  {
   "cell_type": "code",
   "execution_count": 11,
   "id": "2da74ce3-cc32-4829-8420-23d0d4949575",
   "metadata": {},
   "outputs": [
    {
     "data": {
      "image/png": "[encoded data removed]",
      "text/plain": [
       "<Figure size 432x288 with 1 Axes>"
      ]
     },
     "metadata": {
      "needs_background": "light"
     },
     "output_type": "display_data"
    }
   ],
   "source": [
    "# functions to show an image\n",
    "def show_batch_grid(img):\n",
    "    npimg = img.numpy()\n",
    "    plt.imshow(np.transpose(npimg, (1, 2, 0)))\n",
    "    plt.show()\n",
    "\n",
    "# get some random training images\n",
    "dataiter = iter(trainloader)\n",
    "images, labels = dataiter.next()\n",
    "\n",
    "# show images\n",
    "show_batch_grid(torchvision.utils.make_grid(images, nrow=20))"
   ]
  },
  {
   "cell_type": "markdown",
   "id": "868ca885-6d9a-4248-b106-91f3e73e534e",
   "metadata": {},
   "source": []
  },
  {
   "cell_type": "code",
   "execution_count": 12,
   "id": "56752472-c6b8-4966-abbb-6a01c831c2e5",
   "metadata": {},
   "outputs": [],
   "source": [
    "import torch.nn as nn\n",
    "from lib.recognition.vehicle_presence_clf import VehiclePresenceClassifier\n",
    "\n",
    "class_names = [\"No\",\"Yes\"]\n",
    "    \n",
    "vehicle_presence_clf = VehiclePresenceClassifier(class_names=class_names)    \n"
   ]
  },
  {
   "cell_type": "code",
   "execution_count": null,
   "id": "f7ec6f07-7677-476b-937d-8984cbe33f88",
   "metadata": {},
   "outputs": [],
   "source": []
  },
  {
   "cell_type": "code",
   "execution_count": 13,
   "id": "e76a8719-6be4-442d-a1e7-fd51f71a1237",
   "metadata": {},
   "outputs": [],
   "source": [
    "def initialize_weights(m):\n",
    "    if isinstance(m, nn.Conv2d):\n",
    "        nn.init.kaiming_normal_(m.weight.data,nonlinearity='leaky_relu')\n",
    "        if m.bias is not None:\n",
    "            nn.init.constant_(m.bias.data, 0)\n",
    "    elif isinstance(m, nn.BatchNorm2d):\n",
    "        nn.init.constant_(m.weight.data, 1)\n",
    "        nn.init.constant_(m.bias.data, 0)\n",
    "    elif isinstance(m, nn.Linear):\n",
    "        nn.init.kaiming_normal_(m.weight.data)\n",
    "        nn.init.constant_(m.bias.data, 0)"
   ]
  },
  {
   "cell_type": "code",
   "execution_count": 14,
   "id": "108888b1-2c8e-42d9-9941-c237c3c3871a",
   "metadata": {},
   "outputs": [
    {
     "data": {
      "text/plain": [
       "ResNet(\n",
       "  (layer0): Sequential(\n",
       "    (0): Conv2d(3, 64, kernel_size=(3, 3), stride=(1, 1))\n",
       "    (1): MaxPool2d(kernel_size=2, stride=2, padding=0, dilation=1, ceil_mode=False)\n",
       "    (2): BatchNorm2d(64, eps=1e-05, momentum=0.1, affine=True, track_running_stats=True)\n",
       "    (3): ReLU()\n",
       "  )\n",
       "  (layer1): Sequential(\n",
       "    (0): ResBlock(\n",
       "      (conv1): Conv2d(64, 64, kernel_size=(3, 3), stride=(1, 1), padding=(1, 1))\n",
       "      (shortcut): Sequential()\n",
       "      (conv2): Conv2d(64, 64, kernel_size=(3, 3), stride=(1, 1), padding=(1, 1))\n",
       "      (bn1): BatchNorm2d(64, eps=1e-05, momentum=0.1, affine=True, track_running_stats=True)\n",
       "      (bn2): BatchNorm2d(64, eps=1e-05, momentum=0.1, affine=True, track_running_stats=True)\n",
       "    )\n",
       "    (1): ResBlock(\n",
       "      (conv1): Conv2d(64, 64, kernel_size=(3, 3), stride=(1, 1), padding=(1, 1))\n",
       "      (shortcut): Sequential()\n",
       "      (conv2): Conv2d(64, 64, kernel_size=(3, 3), stride=(1, 1), padding=(1, 1))\n",
       "      (bn1): BatchNorm2d(64, eps=1e-05, momentum=0.1, affine=True, track_running_stats=True)\n",
       "      (bn2): BatchNorm2d(64, eps=1e-05, momentum=0.1, affine=True, track_running_stats=True)\n",
       "    )\n",
       "  )\n",
       "  (layer2): Sequential(\n",
       "    (0): ResBlock(\n",
       "      (conv1): Conv2d(64, 128, kernel_size=(3, 3), stride=(2, 2), padding=(1, 1))\n",
       "      (shortcut): Sequential(\n",
       "        (0): Conv2d(64, 128, kernel_size=(1, 1), stride=(2, 2))\n",
       "        (1): BatchNorm2d(128, eps=1e-05, momentum=0.1, affine=True, track_running_stats=True)\n",
       "      )\n",
       "      (conv2): Conv2d(128, 128, kernel_size=(3, 3), stride=(1, 1), padding=(1, 1))\n",
       "      (bn1): BatchNorm2d(128, eps=1e-05, momentum=0.1, affine=True, track_running_stats=True)\n",
       "      (bn2): BatchNorm2d(128, eps=1e-05, momentum=0.1, affine=True, track_running_stats=True)\n",
       "    )\n",
       "    (1): ResBlock(\n",
       "      (conv1): Conv2d(128, 128, kernel_size=(3, 3), stride=(1, 1), padding=(1, 1))\n",
       "      (shortcut): Sequential()\n",
       "      (conv2): Conv2d(128, 128, kernel_size=(3, 3), stride=(1, 1), padding=(1, 1))\n",
       "      (bn1): BatchNorm2d(128, eps=1e-05, momentum=0.1, affine=True, track_running_stats=True)\n",
       "      (bn2): BatchNorm2d(128, eps=1e-05, momentum=0.1, affine=True, track_running_stats=True)\n",
       "    )\n",
       "  )\n",
       "  (layer3): Sequential(\n",
       "    (0): ResBlock(\n",
       "      (conv1): Conv2d(128, 256, kernel_size=(3, 3), stride=(2, 2), padding=(1, 1))\n",
       "      (shortcut): Sequential(\n",
       "        (0): Conv2d(128, 256, kernel_size=(1, 1), stride=(2, 2))\n",
       "        (1): BatchNorm2d(256, eps=1e-05, momentum=0.1, affine=True, track_running_stats=True)\n",
       "      )\n",
       "      (conv2): Conv2d(256, 256, kernel_size=(3, 3), stride=(1, 1), padding=(1, 1))\n",
       "      (bn1): BatchNorm2d(256, eps=1e-05, momentum=0.1, affine=True, track_running_stats=True)\n",
       "      (bn2): BatchNorm2d(256, eps=1e-05, momentum=0.1, affine=True, track_running_stats=True)\n",
       "    )\n",
       "    (1): ResBlock(\n",
       "      (conv1): Conv2d(256, 256, kernel_size=(3, 3), stride=(1, 1), padding=(1, 1))\n",
       "      (shortcut): Sequential()\n",
       "      (conv2): Conv2d(256, 256, kernel_size=(3, 3), stride=(1, 1), padding=(1, 1))\n",
       "      (bn1): BatchNorm2d(256, eps=1e-05, momentum=0.1, affine=True, track_running_stats=True)\n",
       "      (bn2): BatchNorm2d(256, eps=1e-05, momentum=0.1, affine=True, track_running_stats=True)\n",
       "    )\n",
       "  )\n",
       "  (gap): AdaptiveAvgPool2d(output_size=1)\n",
       "  (fc): Linear(in_features=256, out_features=2, bias=True)\n",
       ")"
      ]
     },
     "execution_count": 14,
     "metadata": {},
     "output_type": "execute_result"
    }
   ],
   "source": [
    "import math\n",
    "\n",
    "count = [(y==c).sum() for c in range(len(class_names))]\n",
    "weights = [1/math.sqrt(i) for i in count]\n",
    "\n",
    "weight_tensor = torch.Tensor(weights)\n",
    "\n",
    "# Instantiate a neural network model \n",
    "vehicle_presence_clf._model.apply(initialize_weights)\n",
    "\n",
    "# Loss function\n",
    "weight_tensor = weight_tensor.to(vehicle_presence_clf._device)\n",
    "loss_fn = nn.CrossEntropyLoss(weight = weight_tensor) \n",
    "optimizer = Adam(vehicle_presence_clf._model.parameters(), lr = 5e-5, weight_decay = 1e-5) # learning rate could be changed\n",
    "vehicle_presence_clf._model.to(vehicle_presence_clf._device)"
   ]
  },
  {
   "cell_type": "code",
   "execution_count": 15,
   "id": "6a659e4f-a1be-4536-a7df-402aeb27bcb3",
   "metadata": {},
   "outputs": [],
   "source": [
    "def saveModel(model,PATH):\n",
    "    \n",
    "    torch.save(model.state_dict(),PATH)\n",
    "    return\n",
    "    "
   ]
  },
  {
   "cell_type": "code",
   "execution_count": 16,
   "id": "e93d2e87-70a0-4509-a18e-5cc59b91a2b1",
   "metadata": {},
   "outputs": [
    {
     "name": "stdout",
     "output_type": "stream",
     "text": [
      "epoch : 001/050, loss: 0.17523 train_acc: 94.939090 % val_acc: 93.980436 %\n",
      "epoch : 002/050, loss: 0.11324 train_acc: 94.181835 % val_acc: 93.641836 %\n",
      "epoch : 003/050, loss: 0.23138 train_acc: 96.246649 % val_acc: 95.259594 %\n",
      "epoch : 004/050, loss: 0.18699 train_acc: 96.138469 % val_acc: 94.732882 %\n",
      "epoch : 005/050, loss: 0.24975 train_acc: 96.646442 % val_acc: 95.334838 %\n",
      "epoch : 006/050, loss: 0.05892 train_acc: 96.834580 % val_acc: 95.447705 %\n",
      "epoch : 007/050, loss: 0.03486 train_acc: 97.681200 % val_acc: 95.880361 %\n",
      "epoch : 008/050, loss: 0.14237 train_acc: 97.963407 % val_acc: 95.936795 %\n",
      "epoch : 009/050, loss: 0.15114 train_acc: 97.657683 % val_acc: 95.485327 %\n",
      "epoch : 010/050, loss: 0.11465 train_acc: 97.502469 % val_acc: 94.939804 %\n",
      "epoch : 011/050, loss: 0.02890 train_acc: 99.233338 % val_acc: 95.917983 %\n",
      "epoch : 012/050, loss: 0.03688 train_acc: 98.974648 % val_acc: 95.842739 %\n",
      "epoch : 013/050, loss: 0.00945 train_acc: 99.341517 % val_acc: 96.143717 %\n",
      "epoch : 014/050, loss: 0.02645 train_acc: 99.153379 % val_acc: 95.917983 %\n",
      "epoch : 015/050, loss: 0.03276 train_acc: 99.708386 % val_acc: 96.087284 %\n",
      "epoch : 016/050, loss: 0.00534 train_acc: 99.557876 % val_acc: 96.124906 %\n",
      "epoch : 017/050, loss: 0.02701 train_acc: 99.214524 % val_acc: 95.504138 %\n",
      "epoch : 018/050, loss: 0.01342 train_acc: 99.778938 % val_acc: 95.880361 %\n",
      "epoch : 019/050, loss: 0.04747 train_acc: 99.539062 % val_acc: 96.049661 %\n",
      "epoch : 020/050, loss: 0.00323 train_acc: 99.529655 % val_acc: 95.748683 %\n",
      "epoch : 021/050, loss: 0.00274 train_acc: 99.934152 % val_acc: 96.049661 %\n",
      "epoch : 022/050, loss: 0.00181 train_acc: 99.976483 % val_acc: 96.030850 %\n",
      "epoch : 023/050, loss: 0.00091 train_acc: 99.976483 % val_acc: 96.313017 %\n",
      "epoch : 024/050, loss: 0.03585 train_acc: 99.468510 % val_acc: 95.504138 %\n",
      "epoch : 025/050, loss: 0.00200 train_acc: 99.943559 % val_acc: 96.087284 %\n",
      "epoch : 026/050, loss: 0.00051 train_acc: 99.830676 % val_acc: 95.974417 %\n",
      "epoch : 027/050, loss: 0.08713 train_acc: 99.482621 % val_acc: 95.861550 %\n",
      "epoch : 028/050, loss: 0.00098 train_acc: 99.990593 % val_acc: 96.237773 %\n",
      "epoch : 029/050, loss: 0.00050 train_acc: 99.976483 % val_acc: 95.805117 %\n",
      "epoch : 030/050, loss: 0.00007 train_acc: 100.000000 % val_acc: 96.425884 %\n",
      "epoch : 031/050, loss: 0.00006 train_acc: 100.000000 % val_acc: 96.369451 %\n",
      "epoch : 032/050, loss: 0.00012 train_acc: 100.000000 % val_acc: 96.313017 %\n",
      "epoch : 033/050, loss: 0.00001 train_acc: 100.000000 % val_acc: 96.275395 %\n",
      "epoch : 034/050, loss: 0.00001 train_acc: 100.000000 % val_acc: 96.237773 %\n",
      "epoch : 035/050, loss: 0.00002 train_acc: 100.000000 % val_acc: 96.275395 %\n",
      "epoch : 036/050, loss: 0.00000 train_acc: 100.000000 % val_acc: 96.218962 %\n",
      "epoch : 037/050, loss: 0.00003 train_acc: 100.000000 % val_acc: 96.237773 %\n",
      "epoch : 038/050, loss: 0.00004 train_acc: 100.000000 % val_acc: 96.275395 %\n",
      "epoch : 039/050, loss: 0.00002 train_acc: 100.000000 % val_acc: 96.237773 %\n",
      "epoch : 040/050, loss: 0.00002 train_acc: 100.000000 % val_acc: 96.294206 %\n",
      "epoch : 041/050, loss: 0.00001 train_acc: 100.000000 % val_acc: 96.256584 %\n",
      "epoch : 042/050, loss: 0.00001 train_acc: 100.000000 % val_acc: 96.275395 %\n",
      "epoch : 043/050, loss: 0.00004 train_acc: 100.000000 % val_acc: 96.162528 %\n",
      "epoch : 044/050, loss: 0.00003 train_acc: 100.000000 % val_acc: 96.275395 %\n",
      "epoch : 045/050, loss: 0.00005 train_acc: 100.000000 % val_acc: 96.294206 %\n",
      "epoch : 046/050, loss: 0.00000 train_acc: 100.000000 % val_acc: 96.162528 %\n",
      "epoch : 047/050, loss: 0.00000 train_acc: 100.000000 % val_acc: 96.313017 %\n",
      "epoch : 048/050, loss: 0.00001 train_acc: 100.000000 % val_acc: 96.143717 %\n",
      "epoch : 049/050, loss: 0.00003 train_acc: 100.000000 % val_acc: 96.218962 %\n",
      "epoch : 050/050, loss: 0.00002 train_acc: 100.000000 % val_acc: 96.162528 %\n",
      "Finished Training\n"
     ]
    }
   ],
   "source": [
    "# Function to test the model with the test dataset and print the accuracy for the test images\n",
    "def testAccuracy(model,test_loader,device):\n",
    "    \n",
    "    model.eval()\n",
    "    accuracy = 0.0\n",
    "    total = 0.0\n",
    "    \n",
    "    with torch.no_grad():\n",
    "        for data in test_loader:\n",
    "            images, labels = data\n",
    "            images = Variable(images.to(device))\n",
    "            labels = Variable(labels.to(device))\n",
    "            # run the model on the test set to predict labels\n",
    "            outputs = model(images)\n",
    "            # the label with the highest energy will be our prediction\n",
    "            _, predicted = torch.max(outputs.data, 1)\n",
    "            total += labels.size(0)\n",
    "            accuracy += (predicted == labels).sum().item()\n",
    "    \n",
    "    # compute the accuracy over all test images\n",
    "    accuracy = (100 * float(accuracy) / float(total))\n",
    "    return(accuracy)\n",
    "\n",
    "\n",
    "def train(model,num_epochs,train_loader,test_loader,device,PATH):\n",
    "    \n",
    "    best_accuracy = 0.0\n",
    "    model_path = os.path.abspath(os.path.join(PATH,'vehicle_presence_train.pth'))\n",
    "    for epoch in range(num_epochs):  # loop over the dataset multiple times\n",
    "        running_loss = 0.0\n",
    "        running_acc = 0.0\n",
    "\n",
    "        for i, (images, labels) in enumerate(train_loader, 0):\n",
    "            \n",
    "            # get the inputs\n",
    "            images = Variable(images.to(device))\n",
    "            labels = Variable(labels.to(device))\n",
    "\n",
    "            # zero the parameter gradients\n",
    "            optimizer.zero_grad()\n",
    "            # predict classes using images from the training set\n",
    "            outputs = model(images)\n",
    "            # compute the loss based on model output and real labels\n",
    "            loss = loss_fn(outputs, labels)\n",
    "            # backpropagate the loss\n",
    "            loss.backward()\n",
    "            # adjust parameters based on the calculated gradients\n",
    "            optimizer.step()\n",
    "\n",
    "            # Let's print statistics for every 1,000 images\n",
    "            running_loss += loss.item()     # extract the loss value\n",
    "            if i % 1000 == 999:    \n",
    "                # print every 1000 (twice per epoch) \n",
    "                print('[%d, %5d] loss: %.3f' %\n",
    "                      (epoch + 1, i + 1, running_loss / 1000))\n",
    "                # zero the loss\n",
    "                running_loss = 0.0\n",
    "\n",
    "        # Compute and print the average accuracy fo this epoch when tested over all 10000 test images\n",
    "        train_accuracy = testAccuracy(model, train_loader, device) \n",
    "        test_accuracy = testAccuracy(model , test_loader , device)\n",
    "        \n",
    "        #if (epoch+1)%5==0:   \n",
    "        print(f'epoch : {(epoch+1):03d}/{num_epochs:03d}, loss: {loss.data.item():.5f}','train_acc: %f %%' % (train_accuracy),'val_acc: %f %%' % (test_accuracy))\n",
    "        \n",
    "        # we want to save the model if the accuracy is the best\n",
    "        if test_accuracy > best_accuracy:\n",
    "            if(os.path.isdir(PATH)):\n",
    "                saveModel(model,model_path)\n",
    "            else:\n",
    "                os.mkdir(PATH)\n",
    "                saveModel(model,model_path)\n",
    "            best_accuracy = test_accuracy\n",
    "            \n",
    "    return\n",
    "\n",
    "best_model_path = os.path.abspath(os.path.join(os.getcwd(),\"../models/temp_training\"))\n",
    "\n",
    "train(vehicle_presence_clf._model,50,trainloader,valloader,vehicle_presence_clf._device,best_model_path)\n",
    "vehicle_presence_clf._model.load_state_dict(torch.load(os.path.abspath(os.path.join(best_model_path,'vehicle_presence_train.pth'))))\n",
    "shutil.rmtree(best_model_path)\n",
    "\n",
    "print('Finished Training')"
   ]
  },
  {
   "cell_type": "markdown",
   "id": "1e4a5d3b-dcab-4bd8-b637-c5b0d7680480",
   "metadata": {},
   "source": [
    "# Evaluate"
   ]
  },
  {
   "cell_type": "code",
   "execution_count": 17,
   "id": "b7d9c069-4369-4443-bca4-b911b60e15c3",
   "metadata": {},
   "outputs": [
    {
     "name": "stdout",
     "output_type": "stream",
     "text": [
      "Test accuracy is : 97.06546275395034\n"
     ]
    }
   ],
   "source": [
    "test_accuracy = testAccuracy(vehicle_presence_clf._model,testloader,vehicle_presence_clf._device)\n",
    "print(\"Test accuracy is :\", test_accuracy)"
   ]
  },
  {
   "cell_type": "code",
   "execution_count": 18,
   "id": "4272ebc5-d4ce-4586-ab46-beb49da65039",
   "metadata": {},
   "outputs": [],
   "source": [
    "from sklearn.metrics import accuracy_score, confusion_matrix, precision_score, recall_score,f1_score"
   ]
  },
  {
   "cell_type": "code",
   "execution_count": 19,
   "id": "6d484e7a-748f-460d-b2b7-ca9236b9df1f",
   "metadata": {},
   "outputs": [
    {
     "name": "stdout",
     "output_type": "stream",
     "text": [
      "Test Accuracy of the model on test images: 97.0655 %\n"
     ]
    }
   ],
   "source": [
    "vehicle_presence_clf._model.eval()\n",
    "\n",
    "correct = 0\n",
    "\n",
    "test = []\n",
    "pred = []\n",
    "\n",
    "for images, labels in testloader:\n",
    "    images = Variable(images.float()).to(vehicle_presence_clf._device)\n",
    "    outputs = vehicle_presence_clf._model(images)\n",
    "    _, predicted = torch.max(outputs.data, 1)\n",
    "    \n",
    "    test.extend(labels)\n",
    "    pred.extend(predicted.cpu())\n",
    "    \n",
    "test = np.array(test)\n",
    "pred = np.array(pred)\n",
    "\n",
    "accuracy = (test==pred).sum() / test.shape[0] * 100\n",
    "print('Test Accuracy of the model on test images: %.4f %%' % (accuracy))"
   ]
  },
  {
   "cell_type": "code",
   "execution_count": 20,
   "id": "035466ee-7eca-4ab2-9b2c-822afc295e9a",
   "metadata": {},
   "outputs": [
    {
     "data": {
      "text/plain": [
       "<AxesSubplot:>"
      ]
     },
     "execution_count": 20,
     "metadata": {},
     "output_type": "execute_result"
    },
    {
     "data": {
      "image/png": "[encoded data removed]",
      "text/plain": [
       "<Figure size 1440x504 with 4 Axes>"
      ]
     },
     "metadata": {
      "needs_background": "light"
     },
     "output_type": "display_data"
    }
   ],
   "source": [
    "import seaborn as sn\n",
    "import pandas as pd\n",
    "\n",
    "fig, axes = plt.subplots(1, 2, figsize=(20, 7))\n",
    "\n",
    "\n",
    "matrix_avg = confusion_matrix(test, pred)\n",
    "sn.heatmap(pd.DataFrame(matrix_avg, index=class_names, columns=class_names), ax=axes[0], annot=True)\n",
    "\n",
    "matrix_pct = (matrix_avg.T / matrix_avg.sum(axis=1)).T\n",
    "sn.heatmap(pd.DataFrame(matrix_pct, index=class_names, columns=class_names), ax=axes[1], annot=True)"
   ]
  },
  {
   "cell_type": "code",
   "execution_count": 21,
   "id": "f35eb9f4-7fa3-4b4c-b749-63019d333ac7",
   "metadata": {},
   "outputs": [
    {
     "data": {
      "text/html": [
       "<div>\n",
       "<style scoped>\n",
       "    .dataframe tbody tr th:only-of-type {\n",
       "        vertical-align: middle;\n",
       "    }\n",
       "\n",
       "    .dataframe tbody tr th {\n",
       "        vertical-align: top;\n",
       "    }\n",
       "\n",
       "    .dataframe thead th {\n",
       "        text-align: right;\n",
       "    }\n",
       "</style>\n",
       "<table border=\"1\" class=\"dataframe\">\n",
       "  <thead>\n",
       "    <tr style=\"text-align: right;\">\n",
       "      <th></th>\n",
       "      <th>No</th>\n",
       "      <th>Yes</th>\n",
       "    </tr>\n",
       "  </thead>\n",
       "  <tbody>\n",
       "    <tr>\n",
       "      <th>precision</th>\n",
       "      <td>0.98</td>\n",
       "      <td>0.96</td>\n",
       "    </tr>\n",
       "    <tr>\n",
       "      <th>recall</th>\n",
       "      <td>0.97</td>\n",
       "      <td>0.97</td>\n",
       "    </tr>\n",
       "    <tr>\n",
       "      <th>f1</th>\n",
       "      <td>0.97</td>\n",
       "      <td>0.97</td>\n",
       "    </tr>\n",
       "  </tbody>\n",
       "</table>\n",
       "</div>"
      ],
      "text/plain": [
       "             No   Yes\n",
       "precision  0.98  0.96\n",
       "recall     0.97  0.97\n",
       "f1         0.97  0.97"
      ]
     },
     "execution_count": 21,
     "metadata": {},
     "output_type": "execute_result"
    }
   ],
   "source": [
    "pr = pd.DataFrame([\n",
    "    precision_score(test, pred, average=None),\n",
    "    recall_score(test, pred, average=None),\n",
    "    f1_score(test,pred,average = None),\n",
    "], columns=class_names, index=['precision', 'recall','f1']).round(2)\n",
    "\n",
    "pr"
   ]
  },
  {
   "cell_type": "code",
   "execution_count": 22,
   "id": "2d82cc66-d32d-4cd1-92e1-f1214c0272d3",
   "metadata": {},
   "outputs": [
    {
     "name": "stdin",
     "output_type": "stream",
     "text": [
      "Please scecify your name:  Sahil Jindal\n"
     ]
    }
   ],
   "source": [
    "metrics = {\n",
    "    \"accuracy\": accuracy_score(test, pred),\n",
    "    \"pr\": pr.to_dict(),\n",
    "    \"confusion\": pd.DataFrame(matrix_avg, index=class_names, columns=class_names).T.to_dict(),\n",
    "}\n",
    "\n",
    "vehicle_presence_clf.metrics = metrics"
   ]
  },
  {
   "cell_type": "code",
   "execution_count": 23,
   "id": "bc1eb161-fb39-4ac1-8cae-7163400e40e9",
   "metadata": {},
   "outputs": [
    {
     "name": "stdin",
     "output_type": "stream",
     "text": [
      "Folder already exists. Rewrite model at \"../models/recognition/vehicle_presence\"? (Y/n): y\n"
     ]
    },
    {
     "name": "stdout",
     "output_type": "stream",
     "text": [
      "Rewriting model...\n",
      "Done!\n"
     ]
    }
   ],
   "source": [
    "PATH = \"../models/recognition/vehicle_presence\"\n",
    "vehicle_presence_clf.save(PATH)"
   ]
  },
  {
   "cell_type": "code",
   "execution_count": 24,
   "id": "eb4f6b29-8238-4dec-a2fe-dc8cdc1e4fc4",
   "metadata": {},
   "outputs": [
    {
     "name": "stdout",
     "output_type": "stream",
     "text": [
      "../models/recognition/vehicle_presence\n",
      "class_names.json  metrics.json\tmodel.pth\n"
     ]
    }
   ],
   "source": [
    "print(PATH)\n",
    "!ls $PATH"
   ]
  }
 ],
 "metadata": {
  "kernelspec": {
   "display_name": "Python 3 (ipykernel)",
   "language": "python",
   "name": "python3"
  },
  "language_info": {
   "codemirror_mode": {
    "name": "ipython",
    "version": 3
   },
   "file_extension": ".py",
   "mimetype": "text/x-python",
   "name": "python",
   "nbconvert_exporter": "python",
   "pygments_lexer": "ipython3",
   "version": "3.9.7"
  }
 },
 "nbformat": 4,
 "nbformat_minor": 5
}
